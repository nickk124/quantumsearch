{
 "cells": [
  {
   "cell_type": "markdown",
   "metadata": {},
   "source": [
    "### Exploring the quantum random walk search algorithm"
   ]
  },
  {
   "cell_type": "markdown",
   "metadata": {},
   "source": [
    "**Random walks** are one of the most powerful tools used in science and modeling-- they emerge in fields as wide ranging as psychology, physics, biology, and economics. The general case of random walks, Markov chains, are extensively used in machine learning and Bayersian statistics. In short, random walks are a powerful backbone for many further algorithms. Quantum random walks can offer a powerful algorithmic tool that outperform their classical analogues, one example being Google's well known [PageRank algorithm](https://arxiv.org/pdf/1511.04823.pdf).\n",
    "\n",
    "We can think of random walks as describing the path of a particle as it moves in space. The particle randomly moves to positions in space as the model steps through time. We will consider a [quantum walk on n-dimensional hypercubes](https://arxiv.org/pdf/quant-ph/0210064v1.pdf) (namely the Cayley graph the group $\\mathbb{Z}_{2}^{n}$). \n",
    "\n",
    "As an example, consider a square with the four vertices labeled in binary. We start at 00. To simulate a random walk, we can flip a coin: if it is 'heads' (i.e. state 1), we perform the operation $\\vec{x} \\oplus 01$ (i.e. $00 \\oplus 01$ if we start with $\\vec{x}=00$); if it is tails we perform the operation $\\vec{x} \\oplus 10$. Play the video below to see the evolution of the random walk."
   ]
  },
  {
   "cell_type": "markdown",
   "metadata": {},
   "source": [
    "<video width=\"520\" height=\"240\" controls src=\"square.mp4\" />"
   ]
  },
  {
   "cell_type": "markdown",
   "metadata": {},
   "source": [
    "For each step of this discrete random walk, we perform an operation (randomly either $\\vec{x} \\oplus 01$ or $\\vec{x} \\oplus 10$) and thus move to a new state. For the quantum random walk, we define a unitary evolution operator $U$ that acts on a Hilbert space to evolve the system. The operator consists two operators:\n",
    "1. A controlled shift operation (permutation matrix),\n",
    "\n",
    "2. An operation that 'flips' the (quantum) coin (this can be as simple as a Hadamard gate on each qubit; we use the Grover diffusion operator),\n",
    "\n",
    "with $U=S \\cdot C$.\n",
    "\n",
    "The Hilbert space is described by a 'quantum coin space' and a 'direction' space for the nodes on the graph, $\\mathcal{H}^{C} \\otimes \\mathcal{H}^{S}$. Each of the $N=2^{n}$ nodes on the graph is labeled with a binary string, so the node space is $\\mathcal{H}^{2^{n}}$, and the total Hilbert space (including the coin) is $\\mathcal{H}=\\mathcal{H}^{n} \\otimes \\mathcal{H}^{2^{n}}$.\n",
    "\n",
    "We can explicitly write out the operations for the shift matrix and the coin operator,\n",
    "\n",
    "1. The shift operator: $S=\\sum_{d=0}^{n-1} \\sum_{\\vec{x}}|d, \\vec{x} \\oplus \\overrightarrow{e_{d}}\\rangle\\langle d, \\vec{x}|$\n",
    "\n",
    "2. The coin operator: $C=G \\otimes \\mathcal{I}-(G-\\mathcal{I}) \\otimes|\\overrightarrow{0}\\rangle\\langle\\overrightarrow{0}|$, where G is Grover's diffusion operator, and where we have marked $|\\overrightarrow{0}\\rangle$ as the target state of our oracle which performs the random walk. \n",
    "\n",
    "We use Qiskit to write out these operators, and the circuit, explicitly (defined in the file QRW_Automata.py and the jupyter notebook quantum_notebook.ipynb). "
   ]
  },
  {
   "cell_type": "code",
   "execution_count": 2,
   "metadata": {},
   "outputs": [
    {
     "name": "stdout",
     "output_type": "stream",
     "text": [
      "Matrix for the shift operator:\n",
      "[[0. 1. 0. 0. 0. 0. 0. 0.]\n",
      " [1. 0. 0. 0. 0. 0. 0. 0.]\n",
      " [0. 0. 0. 1. 0. 0. 0. 0.]\n",
      " [0. 0. 1. 0. 0. 0. 0. 0.]\n",
      " [0. 0. 0. 0. 0. 0. 1. 0.]\n",
      " [0. 0. 0. 0. 0. 0. 0. 1.]\n",
      " [0. 0. 0. 0. 1. 0. 0. 0.]\n",
      " [0. 0. 0. 0. 0. 1. 0. 0.]]\n",
      "Matrix for the quantum coin operator:\n",
      "[[0.+0.j 0.+0.j 0.+0.j 0.+0.j 1.+0.j 0.+0.j 0.+0.j 0.+0.j]\n",
      " [0.+0.j 0.+0.j 0.+0.j 0.+0.j 0.+0.j 1.+0.j 0.+0.j 0.+0.j]\n",
      " [0.+0.j 0.+0.j 0.+0.j 0.+0.j 0.+0.j 0.+0.j 1.+0.j 0.+0.j]\n",
      " [0.+0.j 0.+0.j 0.+0.j 0.+0.j 0.+0.j 0.+0.j 0.+0.j 1.+0.j]\n",
      " [1.+0.j 0.+0.j 0.+0.j 0.+0.j 0.+0.j 0.+0.j 0.+0.j 0.+0.j]\n",
      " [0.+0.j 1.+0.j 0.+0.j 0.+0.j 0.+0.j 0.+0.j 0.+0.j 0.+0.j]\n",
      " [0.+0.j 0.+0.j 1.+0.j 0.+0.j 0.+0.j 0.+0.j 0.+0.j 0.+0.j]\n",
      " [0.+0.j 0.+0.j 0.+0.j 1.+0.j 0.+0.j 0.+0.j 0.+0.j 0.+0.j]]\n"
     ]
    },
    {
     "data": {
      "text/plain": [
       "Operator([[0.+0.j, 0.+0.j, 0.+0.j, 0.+0.j, 1.+0.j, 0.+0.j, 0.+0.j, 0.+0.j],\n",
       "          [0.+0.j, 0.+0.j, 0.+0.j, 0.+0.j, 0.+0.j, 1.+0.j, 0.+0.j, 0.+0.j],\n",
       "          [0.+0.j, 0.+0.j, 0.+0.j, 0.+0.j, 0.+0.j, 0.+0.j, 1.+0.j, 0.+0.j],\n",
       "          [0.+0.j, 0.+0.j, 0.+0.j, 0.+0.j, 0.+0.j, 0.+0.j, 0.+0.j, 1.+0.j],\n",
       "          [1.+0.j, 0.+0.j, 0.+0.j, 0.+0.j, 0.+0.j, 0.+0.j, 0.+0.j, 0.+0.j],\n",
       "          [0.+0.j, 1.+0.j, 0.+0.j, 0.+0.j, 0.+0.j, 0.+0.j, 0.+0.j, 0.+0.j],\n",
       "          [0.+0.j, 0.+0.j, 1.+0.j, 0.+0.j, 0.+0.j, 0.+0.j, 0.+0.j, 0.+0.j],\n",
       "          [0.+0.j, 0.+0.j, 0.+0.j, 1.+0.j, 0.+0.j, 0.+0.j, 0.+0.j, 0.+0.j]],\n",
       "         input_dims=(2, 2, 2), output_dims=(2, 2, 2))"
      ]
     },
     "execution_count": 2,
     "metadata": {},
     "output_type": "execute_result"
    }
   ],
   "source": [
    "from QRW_Automata import QRWsearch\n",
    "search_circuit = QRWsearch(2,0)\n",
    "search_circuit.S(display_matrix=True)\n",
    "search_circuit.C(display_matrix=True)"
   ]
  },
  {
   "cell_type": "code",
   "execution_count": 2,
   "metadata": {},
   "outputs": [
    {
     "name": "stdout",
     "output_type": "stream",
     "text": [
      "     ┌───┐┌─────┐┌─────┐┌─────┐┌─┐      \n",
      "q_0: ┤ H ├┤0    ├┤0    ├┤0    ├┤M├──────\n",
      "     ├───┤│     ││     ││     │└╥┘┌─┐   \n",
      "q_1: ┤ H ├┤1 U' ├┤1 U' ├┤1 U' ├─╫─┤M├───\n",
      "     ├───┤│     ││     ││     │ ║ └╥┘┌─┐\n",
      "q_2: ┤ H ├┤2    ├┤2    ├┤2    ├─╫──╫─┤M├\n",
      "     └───┘└─────┘└─────┘└─────┘ ║  ║ └╥┘\n",
      "c_0: ═══════════════════════════╩══╬══╬═\n",
      "                                   ║  ║ \n",
      "c_1: ══════════════════════════════╩══╬═\n",
      "                                      ║ \n",
      "c_2: ═════════════════════════════════╩═\n",
      "                                        \n"
     ]
    },
    {
     "data": {
      "image/png": "[encoded data removed]",
      "text/plain": [
       "<Figure size 1080x1080 with 1 Axes>"
      ]
     },
     "execution_count": 2,
     "metadata": {},
     "output_type": "execute_result"
    }
   ],
   "source": [
    "from QRW_Automata import QRWsearch\n",
    "search_circuit = QRWsearch(2,0)\n",
    "print(search_circuit.draw_circuit())\n",
    "search_circuit.plot_states_hist()"
   ]
  },
  {
   "cell_type": "code",
   "execution_count": null,
   "metadata": {},
   "outputs": [],
   "source": []
  }
 ],
 "metadata": {
  "kernelspec": {
   "display_name": "Python 3",
   "language": "python",
   "name": "python3"
  },
  "language_info": {
   "codemirror_mode": {
    "name": "ipython",
    "version": 3
   },
   "file_extension": ".py",
   "mimetype": "text/x-python",
   "name": "python",
   "nbconvert_exporter": "python",
   "pygments_lexer": "ipython3",
   "version": "3.8.3"
  }
 },
 "nbformat": 4,
 "nbformat_minor": 4
}
